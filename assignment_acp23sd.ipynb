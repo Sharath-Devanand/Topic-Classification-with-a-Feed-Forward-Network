{
 "cells": [
  {
   "cell_type": "markdown",
   "metadata": {},
   "source": [
    "# [COM6513] Assignment: Topic Classification with a Feedforward Network\n",
    "\n",
    "\n",
    "### Instructor: Nikos Aletras\n",
    "\n",
    "\n",
    "The goal of this assignment is to develop a Feedforward neural network for topic classification. \n",
    "\n",
    "\n",
    "\n",
    "For that purpose, you will implement:\n",
    "\n",
    "- Text processing methods for transforming raw text data into input vectors for your network  (**1 mark**)\n",
    "\n",
    "\n",
    "- A Feedforward network consisting of:\n",
    "    - **One-hot** input layer mapping words into an **Embedding weight matrix** (**1 mark**)\n",
    "    - **One hidden layer** computing the mean embedding vector of all words in input followed by a **ReLU activation function** (**1 mark**)\n",
    "    - **Output layer** with a **softmax** activation. (**1 mark**)\n",
    "\n",
    "\n",
    "- The Stochastic Gradient Descent (SGD) algorithm with **back-propagation** to learn the weights of your Neural network. Your algorithm should:\n",
    "    - Use (and minimise) the **Categorical Cross-entropy loss** function (**1 mark**)\n",
    "    - Perform a **Forward pass** to compute intermediate outputs (**2 marks**)\n",
    "    - Perform a **Backward pass** to compute gradients and update all sets of weights (**3 marks**)\n",
    "    - Implement and use **Dropout** after each hidden layer for regularisation (**1 marks**)\n",
    "\n",
    "\n",
    "\n",
    "- Discuss how did you choose hyperparameters? You can tune the learning rate (hint: choose small values), embedding size {e.g. 50, 300, 500} and the dropout rate {e.g. 0.2, 0.5}. Please use tables or graphs to show training and validation performance for each hyperparameter combination  (**2 marks**). \n",
    "\n",
    "\n",
    "\n",
    "- After training a model, plot the learning process (i.e. training and validation loss in each epoch) using a line plot and report accuracy. Does your model overfit, underfit or is about right? (**1 mark**).\n",
    "\n",
    "\n",
    "\n",
    "- Re-train your network by using pre-trained embeddings ([GloVe](https://nlp.stanford.edu/projects/glove/)) trained on large corpora. Instead of randomly initialising the embedding weights matrix, you should initialise it with the pre-trained weights. During training, you should not update them (i.e. weight freezing) and backprop should stop before computing gradients for updating embedding weights. Report results by performing hyperparameter tuning and plotting the learning process. Do you get better performance? (**1 marks**).\n",
    "\n",
    "\n",
    "\n",
    "- Extend you Feedforward network by adding more hidden layers (e.g. one more or two). How does it affect the performance? Note: You need to repeat hyperparameter tuning, but the number of combinations grows exponentially. Therefore, you need to choose a subset of all possible combinations (**3 marks**)\n",
    "\n",
    "\n",
    "- Provide well documented and commented code describing all of your choices. In general, you are free to make decisions about text processing (e.g. punctuation, numbers, vocabulary size) and hyperparameter values. We expect to see justifications and discussion for all of your choices. You must provide detailed explanations of your implementation, provide a detailed analysis of the results (e.g. why a model performs better than other models etc.) including error analyses (e.g. examples and discussion/analysis of missclasifications etc.)  (**10 marks**). \n",
    "\n",
    "\n",
    "\n",
    "- Provide efficient solutions by using Numpy arrays when possible. Executing the whole notebook with your code should not take more than 10 minutes on any standard computer (e.g. Intel Core i5 CPU, 8 or 16GB RAM) excluding hyperparameter tuning runs and loading the pretrained vectors. You can find tips in Lab 1 (**2 marks**). \n",
    "\n",
    "\n",
    "\n",
    "### Data \n",
    "\n",
    "The data you will use for the task is a subset of the [AG News Corpus](http://groups.di.unipi.it/~gulli/AG_corpus_of_news_articles.html) and you can find it in the `./data_topic` folder in CSV format:\n",
    "\n",
    "- `data_topic/train.csv`: contains 2,400 news articles, 800 for each class to be used for training.\n",
    "- `data_topic/dev.csv`: contains 150 news articles, 50 for each class to be used for hyperparameter selection and monitoring the training process.\n",
    "- `data_topic/test.csv`: contains 900 news articles, 300 for each class to be used for testing.\n",
    "\n",
    "Class 1: Politics, Class 2: Sports, Class 3: Economy\n",
    "\n",
    "### Pre-trained Embeddings\n",
    "\n",
    "You can download pre-trained GloVe embeddings trained on Common Crawl (840B tokens, 2.2M vocab, cased, 300d vectors, 2.03 GB download) from [here](http://nlp.stanford.edu/data/glove.840B.300d.zip). No need to unzip, the file is large.\n",
    "\n",
    "### Save Memory\n",
    "\n",
    "To save RAM, when you finish each experiment you can delete the weights of your network using `del W` followed by Python's garbage collector `gc.collect()`\n",
    "\n",
    "\n"
   ]
  },
  {
   "cell_type": "markdown",
   "metadata": {},
   "source": [
    "### Submission Instructions\n",
    "\n",
    "You **must** submit a Jupyter Notebook file (assignment_yourusername.ipynb) and an exported PDF version (you can do it from Jupyter: `File->Download as->PDF via Latex`, you need to have a Latex distribution installed e.g. MikTex or MacTex and pandoc). If you are unable to export the pdf via Latex, you can print the notebook web page to a pdf file from your browser (e.g. on Firefox: File->Print->Save to PDF).\n",
    "\n",
    "\n",
    "You are advised to follow the code structure given in this notebook by completing all given funtions. You can also write any auxilliary/helper functions (and arguments for the functions) that you might need but note that you can provide a full solution without any such functions. Similarly, you can just use only the packages imported below but you are free to use any functionality from the [Python Standard Library](https://docs.python.org/3/library/index.html), NumPy, SciPy (excluding built-in softmax funtcions) and Pandas. You are **not allowed to use any third-party library** such as Scikit-learn (apart from metric functions already provided), NLTK, Spacy, Keras, Pytorch etc.. You should mention if you've used Windows to write and test your code because we mostly use Unix based machines for marking (e.g. Ubuntu, MacOS). \n",
    "\n",
    "There is no single correct answer on what your accuracy should be, but correct implementations usually achieve F1-scores around 80\\% or higher. The quality of the analysis of the results and discussion is as important as the implementation and accuracy of your models. Please be brief and consice in your discussion and analyses. \n",
    "\n",
    "This assignment will be marked out of 30. It is worth 30\\% of your final grade in the module.\n",
    "\n",
    "The deadline for this assignment is **23:59 on Mon, 12 Apr 2024** and it needs to be submitted via Blackboard. Standard departmental penalties for lateness will be applied. We use a range of strategies to **detect [unfair means](https://www.sheffield.ac.uk/ssid/unfair-means/index)**, including Turnitin which helps detect plagiarism. Use of unfair means would result in getting a failing grade.\n",
    "\n"
   ]
  },
  {
   "cell_type": "code",
   "execution_count": 1,
   "metadata": {
    "ExecuteTime": {
     "end_time": "2020-04-02T15:00:18.625532Z",
     "start_time": "2020-04-02T15:00:17.377733Z"
    },
    "scrolled": true
   },
   "outputs": [],
   "source": [
    "import pandas as pd\n",
    "import numpy as np\n",
    "from collections import Counter\n",
    "import re\n",
    "import matplotlib.pyplot as plt\n",
    "from sklearn.metrics import accuracy_score, precision_score, recall_score, f1_score\n",
    "import random\n",
    "from time import localtime, strftime\n",
    "from scipy.stats import spearmanr,pearsonr\n",
    "import zipfile\n",
    "import gc\n",
    "\n",
    "# fixing random seed for reproducibility\n",
    "random.seed(123)\n",
    "np.random.seed(123)\n"
   ]
  },
  {
   "cell_type": "markdown",
   "metadata": {},
   "source": [
    "## Transform Raw texts into training and development data\n",
    "\n",
    "First, you need to load the training, development and test sets from their corresponding CSV files (tip: you can use Pandas dataframes)."
   ]
  },
  {
   "cell_type": "code",
   "execution_count": 2,
   "metadata": {
    "ExecuteTime": {
     "end_time": "2020-04-02T14:26:39.748484Z",
     "start_time": "2020-04-02T14:26:39.727404Z"
    },
    "scrolled": true
   },
   "outputs": [],
   "source": [
    "df_train = pd.read_csv('data_topic/train.csv',names=['label','text'])\n",
    "df_test = pd.read_csv('data_topic/test.csv', names = ['label','text'])\n",
    "df_dev = pd.read_csv('data_topic/dev.csv', names = ['label','text'])"
   ]
  },
  {
   "cell_type": "markdown",
   "metadata": {},
   "source": [
    "# Create input representations\n",
    "\n",
    "\n",
    "To train your Feedforward network, you first need to obtain input representations given a vocabulary. One-hot encoding requires large memory capacity. Therefore, we will instead represent documents as lists of vocabulary indices (each word corresponds to a vocabulary index). \n",
    "\n",
    "\n",
    "## Text Pre-Processing Pipeline\n",
    "\n",
    "To obtain a vocabulary of words. You should: \n",
    "- tokenise all texts into a list of unigrams (tip: you can re-use the functions from Assignment 1) \n",
    "- remove stop words (using the one provided or one of your preference) \n",
    "- remove unigrams appearing in less than K documents\n",
    "- use the remaining to create a vocabulary of the top-N most frequent unigrams in the entire corpus.\n"
   ]
  },
  {
   "cell_type": "code",
   "execution_count": 3,
   "metadata": {
    "ExecuteTime": {
     "end_time": "2020-04-02T14:26:40.851926Z",
     "start_time": "2020-04-02T14:26:40.847500Z"
    },
    "scrolled": true
   },
   "outputs": [],
   "source": [
    "stop_words = ['a','in','on','at','and','or', \n",
    "              'to', 'the', 'of', 'an', 'by', \n",
    "              'as', 'is', 'was', 'were', 'been', 'be', \n",
    "              'are','for', 'this', 'that', 'these', 'those', 'you', 'i', 'if',\n",
    "             'it', 'he', 'she', 'we', 'they', 'will', 'have', 'has',\n",
    "              'do', 'did', 'can', 'could', 'who', 'which', 'what',\n",
    "              'but', 'not', 'there', 'no', 'does', 'not', 'so', 've', 'their',\n",
    "             'his', 'her', 'they', 'them', 'from', 'with', 'its']\n"
   ]
  },
  {
   "cell_type": "markdown",
   "metadata": {},
   "source": [
    "### Unigram extraction from a document\n",
    "\n",
    "You first need to implement the `extract_ngrams` function. It takes as input:\n",
    "- `x_raw`: a string corresponding to the raw text of a document\n",
    "- `ngram_range`: a tuple of two integers denoting the type of ngrams you want to extract, e.g. (1,2) denotes extracting unigrams and bigrams.\n",
    "- `token_pattern`: a string to be used within a regular expression to extract all tokens. Note that data is already tokenised so you could opt for a simple white space tokenisation.\n",
    "- `stop_words`: a list of stop words\n",
    "- `vocab`: a given vocabulary. It should be used to extract specific features.\n",
    "\n",
    "and returns:\n",
    "\n",
    "- a list of all extracted features.\n"
   ]
  },
  {
   "cell_type": "code",
   "execution_count": 4,
   "metadata": {
    "ExecuteTime": {
     "end_time": "2020-05-11T08:23:17.181553Z",
     "start_time": "2020-05-11T08:23:17.178314Z"
    },
    "scrolled": true
   },
   "outputs": [],
   "source": [
    "def extract_ngrams(x_raw, ngram_range=(1,3), token_pattern=r'\\b[A-Za-z][A-Za-z]+\\b', \n",
    "                   stop_words=[], vocab=set()):\n",
    "    \n",
    "\n",
    "    ## Extract tokens from the document\n",
    "    tokens = re.findall(token_pattern, x_raw.lower())\n",
    "\n",
    "\n",
    "    ## Remove stop words from the tokens\n",
    "    tokens = [t for t in tokens if t not in stop_words]\n",
    "    \n",
    "    x = []\n",
    "\n",
    "    ## Extract n-grams\n",
    "    for n in range(ngram_range[0], ngram_range[1]+1):\n",
    "        for i in range(len(tokens)-n+1):\n",
    "            ngram = ' '.join(tokens[i:i+n])\n",
    "            if vocab:\n",
    "                if ngram in vocab:\n",
    "                    x.append(ngram)\n",
    "            else:\n",
    "                x.append(ngram)\n",
    "        \n",
    "    return x"
   ]
  },
  {
   "cell_type": "markdown",
   "metadata": {},
   "source": [
    "### Create a vocabulary of n-grams\n",
    "\n",
    "Then the `get_vocab` function will be used to (1) create a vocabulary of ngrams; (2) count the document frequencies of ngrams; (3) their raw frequency. It takes as input:\n",
    "- `X_raw`: a list of strings each corresponding to the raw text of a document\n",
    "- `ngram_range`: a tuple of two integers denoting the type of ngrams you want to extract, e.g. (1,2) denotes extracting unigrams and bigrams.\n",
    "- `token_pattern`: a string to be used within a regular expression to extract all tokens. Note that data is already tokenised so you could opt for a simple white space tokenisation.\n",
    "- `stop_words`: a list of stop words\n",
    "- `min_df`: keep ngrams with a minimum document frequency.\n",
    "- `keep_topN`: keep top-N more frequent ngrams.\n",
    "\n",
    "and returns:\n",
    "\n",
    "- `vocab`: a set of the n-grams that will be used as features.\n",
    "- `df`: a Counter (or dict) that contains ngrams as keys and their corresponding document frequency as values.\n",
    "- `ngram_counts`: counts of each ngram in vocab\n"
   ]
  },
  {
   "cell_type": "code",
   "execution_count": 5,
   "metadata": {
    "ExecuteTime": {
     "end_time": "2020-04-02T14:26:42.563876Z",
     "start_time": "2020-04-02T14:26:42.557967Z"
    },
    "scrolled": true
   },
   "outputs": [],
   "source": [
    "def get_vocab(X_raw, ngram_range=(1,3), token_pattern=r'\\b[A-Za-z][A-Za-z]+\\b', \n",
    "              min_df=0, keep_topN=0, \n",
    "              stop_words=[]):\n",
    "    \n",
    "    ### Initialize the vocabulary and document frequency dictionary\n",
    "    vocab = set()\n",
    "    df = {}\n",
    "    ngram_counts = {}\n",
    "    \n",
    "    ## Extract n-grams from each document\n",
    "    ngrams = [extract_ngrams(x, ngram_range, stop_words=stop_words, token_pattern=token_pattern) for x in X_raw.iloc[:,1]]\n",
    "\n",
    "    ## Iterate through each document's n-grams and populate the vocabulary and document frequency\n",
    "    for i, sublist in enumerate(ngrams):\n",
    "        for word in sublist:\n",
    "            vocab.add(word)\n",
    "            ngram_counts[word] = ngram_counts.get(word, 0) + 1\n",
    "\n",
    "            if word in df.keys():\n",
    "                df[word] += 1\n",
    "            else:\n",
    "                df[word] = 1\n",
    "\n",
    "    # filtering out ngrams that have document frequency less than min_df\n",
    "    words_to_discard = set()\n",
    "\n",
    "    for word in vocab:\n",
    "        if ngram_counts[word] < min_df:\n",
    "            words_to_discard.add(word)\n",
    "\n",
    "    vocab = vocab - words_to_discard\n",
    "\n",
    "    # Filter n-grams based on keep_topN\n",
    "    \n",
    "    if keep_topN >0:\n",
    "        sorted_df = sorted(df.items(), key=lambda x: x[1], reverse=True)\n",
    "        words_to_retain = set([x[0] for x in sorted_df[:keep_topN]])\n",
    "        vocab = vocab & words_to_retain\n",
    "    \n",
    "    \n",
    "    return vocab, df, ngram_counts"
   ]
  },
  {
   "cell_type": "markdown",
   "metadata": {},
   "source": [
    "Now you should use `get_vocab` to create your vocabulary and get document and raw frequencies of unigrams:"
   ]
  },
  {
   "cell_type": "code",
   "execution_count": 6,
   "metadata": {
    "ExecuteTime": {
     "end_time": "2020-04-02T14:26:43.577997Z",
     "start_time": "2020-04-02T14:26:43.478950Z"
    },
    "scrolled": true
   },
   "outputs": [],
   "source": [
    "df_all = pd.concat([df_train, df_dev, df_test], ignore_index=True)\n",
    "\n",
    "vocab,df_extract,ngram_counts = get_vocab(df_train, ngram_range=(1,1), stop_words=stop_words)"
   ]
  },
  {
   "cell_type": "markdown",
   "metadata": {},
   "source": [
    "Then, you need to create vocabulary id -> word and word -> vocabulary id dictionaries for reference:"
   ]
  },
  {
   "cell_type": "code",
   "execution_count": 7,
   "metadata": {},
   "outputs": [],
   "source": [
    "#vocab id -> word dictionary\n",
    "\n",
    "id2word = {i:w for i,w in enumerate(vocab)}\n",
    "\n",
    "#word -> vocab id dictionary\n",
    "\n",
    "word2id = {w:i for i,w in id2word.items()}"
   ]
  },
  {
   "cell_type": "markdown",
   "metadata": {},
   "source": [
    "### Convert the list of unigrams  into a list of vocabulary indices"
   ]
  },
  {
   "cell_type": "markdown",
   "metadata": {},
   "source": [
    "Storing actual one-hot vectors into memory for all words in the entire data set is prohibitive. Instead, we will store word indices in the vocabulary and look-up the weight matrix. This is equivalent of doing a dot product between an one-hot vector and the weight matrix. \n",
    "\n",
    "First, represent documents in train, dev and test sets as lists of words in the vocabulary:"
   ]
  },
  {
   "cell_type": "code",
   "execution_count": 8,
   "metadata": {
    "ExecuteTime": {
     "end_time": "2020-04-02T14:26:45.047887Z",
     "start_time": "2020-04-02T14:26:44.920631Z"
    },
    "scrolled": true
   },
   "outputs": [],
   "source": [
    "# train, dev and test sets as lists of words in the vocabulary\n",
    "\n",
    "X_tr = [extract_ngrams(x, ngram_range=(1,1), stop_words=stop_words, vocab=vocab) for x in df_train.iloc[:,1]]\n",
    "X_dev = [extract_ngrams(x, ngram_range=(1,1), stop_words=stop_words, vocab=vocab) for x in df_dev.iloc[:,1]]\n",
    "X_te = [extract_ngrams(x, ngram_range=(1,1), stop_words=stop_words, vocab=vocab) for x in df_test.iloc[:,1]]"
   ]
  },
  {
   "cell_type": "markdown",
   "metadata": {},
   "source": [
    "Then convert them into lists of indices in the vocabulary:"
   ]
  },
  {
   "cell_type": "code",
   "execution_count": 9,
   "metadata": {
    "ExecuteTime": {
     "end_time": "2020-04-02T14:26:45.752658Z",
     "start_time": "2020-04-02T14:26:45.730409Z"
    },
    "scrolled": true
   },
   "outputs": [],
   "source": [
    "# convert them into lists of indices in the vocabulary\n",
    "\n",
    "X_tr = [[word2id[w] for w in x] for x in X_tr]\n",
    "X_dev = [[word2id[w] for w in x] for x in X_dev]\n",
    "X_te = [[word2id[w] for w in x] for x in X_te]"
   ]
  },
  {
   "cell_type": "markdown",
   "metadata": {},
   "source": [
    "Put the labels `Y` for train, dev and test sets into arrays: "
   ]
  },
  {
   "cell_type": "code",
   "execution_count": 10,
   "metadata": {
    "ExecuteTime": {
     "end_time": "2020-04-02T15:03:13.183996Z",
     "start_time": "2020-04-02T15:03:13.077575Z"
    },
    "scrolled": true
   },
   "outputs": [],
   "source": [
    "#Put the labels `Y` for train, dev and test sets into arrays: \n",
    "\n",
    "Y_tr = df_train.iloc[:,0].values\n",
    "Y_dev = df_dev.iloc[:,0].values\n",
    "Y_te = df_test.iloc[:,0].values\n",
    "\n",
    "Y_te = [i -1 for i in Y_te]"
   ]
  },
  {
   "cell_type": "markdown",
   "metadata": {},
   "source": [
    "# Network Architecture\n",
    "\n",
    "Your network should pass each word index into its corresponding embedding by looking-up on the embedding matrix and then compute the first hidden layer $\\mathbf{h}_1$:\n",
    "\n",
    "$$\\mathbf{h}_1 = \\frac{1}{|x|}\\sum_i W^e_i, i \\in x$$\n",
    "\n",
    "where $|x|$ is the number of words in the document and $W^e$ is an embedding matrix $|V|\\times d$, $|V|$ is the size of the vocabulary and $d$ the embedding size.\n",
    "\n",
    "Then $\\mathbf{h}_1$ should be passed through a ReLU activation function:\n",
    "\n",
    "$$\\mathbf{a}_1 = relu(\\mathbf{h}_1)$$\n",
    "\n",
    "Finally the hidden layer is passed to the output layer:\n",
    "\n",
    "\n",
    "$$\\mathbf{y} = \\text{softmax}(\\mathbf{a}_1W) $$ \n",
    "where $W$ is a matrix $d \\times |{\\cal Y}|$, $|{\\cal Y}|$ is the number of classes.\n",
    "\n",
    "During training, $\\mathbf{a}_1$ should be multiplied with a dropout mask vector (elementwise) for regularisation before it is passed to the output layer.\n",
    "\n",
    "You can extend to a deeper architecture by passing a hidden layer to another one:\n",
    "\n",
    "$$\\mathbf{h_i} = \\mathbf{a}_{i-1}W_i $$\n",
    "\n",
    "$$\\mathbf{a_i} = relu(\\mathbf{h_i}) $$\n",
    "\n"
   ]
  },
  {
   "cell_type": "markdown",
   "metadata": {},
   "source": [
    "# Network Training\n",
    "\n",
    "First we need to define the parameters of our network by initiliasing the weight matrices. For that purpose, you should implement the `network_weights` function that takes as input:\n",
    "\n",
    "- `vocab_size`: the size of the vocabulary\n",
    "- `embedding_dim`: the size of the word embeddings\n",
    "- `hidden_dim`: a list of the sizes of any subsequent hidden layers. Empty if there are no hidden layers between the average embedding and the output layer \n",
    "- `num_classes`: the number of the classes for the output layer\n",
    "\n",
    "and returns:\n",
    "\n",
    "- `W`: a dictionary mapping from layer index (e.g. 0 for the embedding matrix) to the corresponding weight matrix initialised with small random numbers (hint: use numpy.random.uniform with from -0.1 to 0.1)\n",
    "\n",
    "Make sure that the dimensionality of each weight matrix is compatible with the previous and next weight matrix, otherwise you won't be able to perform forward and backward passes. Consider also using np.float32 precision to save memory."
   ]
  },
  {
   "cell_type": "code",
   "execution_count": 11,
   "metadata": {},
   "outputs": [],
   "source": [
    "### Initialize random weights to create the weight matrix/network\n",
    "\n",
    "def network_weights(vocab_size=1000,embedding_dim=300,hidden_dim=[],num_classes=3,init_val=0.5):\n",
    "\n",
    "    W = {}\n",
    "    W[0] = np.random.uniform(-init_val,init_val,(vocab_size,embedding_dim)).astype(np.float32)\n",
    "    prev_dim = embedding_dim\n",
    "    for i,h in enumerate(hidden_dim):\n",
    "        W[i+1] = np.random.uniform(-init_val,init_val,(prev_dim,h)).astype(np.float32)\n",
    "        prev_dim = h\n",
    "\n",
    "    output_dim = hidden_dim[-1] if hidden_dim else embedding_dim\n",
    "    W[len(hidden_dim) + 1] = np.random.uniform(-init_val, init_val, (output_dim, num_classes)).astype(np.float32)\n",
    "    return W"
   ]
  },
  {
   "cell_type": "code",
   "execution_count": 12,
   "metadata": {
    "ExecuteTime": {
     "end_time": "2020-04-02T14:26:48.636732Z",
     "start_time": "2020-04-02T14:26:48.634122Z"
    },
    "scrolled": true
   },
   "outputs": [],
   "source": [
    "W = network_weights(vocab_size=3,embedding_dim=4,hidden_dim=[2], num_classes=2)"
   ]
  },
  {
   "cell_type": "markdown",
   "metadata": {
    "ExecuteTime": {
     "end_time": "2020-04-01T10:31:57.970152Z",
     "start_time": "2020-04-01T10:31:57.966123Z"
    }
   },
   "source": [
    "Then you need to develop a `softmax` function (same as in Assignment 1) to be used in the output layer. \n",
    "\n",
    "It takes as input `z` (array of real numbers) and returns `sig` (the softmax of `z`)\n",
    "\n"
   ]
  },
  {
   "cell_type": "code",
   "execution_count": 13,
   "metadata": {},
   "outputs": [],
   "source": [
    "### Defining the softmax function\n",
    "\n",
    "def softmax(z):\n",
    "    z = z - np.max(z, axis=0, keepdims=True)\n",
    "    exp_z = np.exp(z)\n",
    "    sig = exp_z / np.sum(exp_z, axis=0)\n",
    "    return sig"
   ]
  },
  {
   "cell_type": "markdown",
   "metadata": {},
   "source": [
    "Now you need to implement the categorical cross entropy loss by slightly modifying the function from Assignment 1 to depend only on the true label `y` and the class probabilities vector `y_preds`:\n"
   ]
  },
  {
   "cell_type": "code",
   "execution_count": 14,
   "metadata": {
    "ExecuteTime": {
     "end_time": "2020-04-02T14:26:51.360838Z",
     "start_time": "2020-04-02T14:26:51.356935Z"
    },
    "scrolled": true
   },
   "outputs": [],
   "source": [
    "## Cross-entropy loss function\n",
    "\n",
    "def categorical_loss(y, y_preds):\n",
    "    \n",
    "    l = -np.sum(y*np.log(y_preds+1e-9))+1e-8\n",
    "\n",
    "    return l"
   ]
  },
  {
   "cell_type": "markdown",
   "metadata": {
    "ExecuteTime": {
     "end_time": "2020-03-31T15:02:56.149535Z",
     "start_time": "2020-03-31T15:02:56.145738Z"
    }
   },
   "source": [
    "Then, implement the `relu` function to introduce non-linearity after each hidden layer of your network \n",
    "(during the forward pass): \n",
    "\n",
    "$$relu(z_i)= max(z_i,0)$$\n",
    "\n",
    "and the `relu_derivative` function to compute its derivative (used in the backward pass):\n",
    "\n",
    "  \n",
    "  relu_derivative($z_i$)=0, if $z_i$<=0, 1 otherwise.\n",
    "  \n",
    "\n",
    "\n",
    "Note that both functions take as input a vector $z$ \n",
    "\n",
    "Hint use .copy() to avoid in place changes in array z"
   ]
  },
  {
   "cell_type": "code",
   "execution_count": 15,
   "metadata": {
    "ExecuteTime": {
     "end_time": "2020-04-02T14:26:52.665236Z",
     "start_time": "2020-04-02T14:26:52.661519Z"
    },
    "scrolled": true
   },
   "outputs": [],
   "source": [
    "## Defining relu and relu derivative functions\n",
    "\n",
    "def relu(z):\n",
    "    a = np.maximum(0,z)\n",
    "    \n",
    "    return a\n",
    "    \n",
    "def relu_derivative(z):\n",
    "    dz = np.where(z>0, 1, 0)\n",
    "    return dz"
   ]
  },
  {
   "cell_type": "markdown",
   "metadata": {},
   "source": [
    "During training you should also apply a dropout mask element-wise after the activation function (i.e. vector of ones with a random percentage set to zero). The `dropout_mask` function takes as input:\n",
    "\n",
    "- `size`: the size of the vector that we want to apply dropout\n",
    "- `dropout_rate`: the percentage of elements that will be randomly set to zeros\n",
    "\n",
    "and returns:\n",
    "\n",
    "- `dropout_vec`: a vector with binary values (0 or 1)"
   ]
  },
  {
   "cell_type": "code",
   "execution_count": 16,
   "metadata": {
    "ExecuteTime": {
     "end_time": "2020-04-02T14:26:53.429192Z",
     "start_time": "2020-04-02T14:26:53.425301Z"
    },
    "scrolled": true
   },
   "outputs": [],
   "source": [
    "## Dropout Regularization function\n",
    "\n",
    "def dropout_mask(size, dropout_rate):\n",
    "    \n",
    "    dropout_vec = np.random.binomial(1, 1-dropout_rate, size)\n",
    "    return dropout_vec\n",
    "    "
   ]
  },
  {
   "cell_type": "code",
   "execution_count": 17,
   "metadata": {
    "ExecuteTime": {
     "end_time": "2020-04-02T14:26:53.853632Z",
     "start_time": "2020-04-02T14:26:53.849944Z"
    },
    "scrolled": true
   },
   "outputs": [
    {
     "name": "stdout",
     "output_type": "stream",
     "text": [
      "[1 1 1 1 1 1 1 1 1 1]\n",
      "[1 1 1 0 0 1 1 1 1 1]\n"
     ]
    }
   ],
   "source": [
    "print(dropout_mask(10, 0.2))\n",
    "print(dropout_mask(10, 0.2))"
   ]
  },
  {
   "cell_type": "markdown",
   "metadata": {},
   "source": [
    "Now you need to implement the `forward_pass` function that passes the input x through the network up to the output layer for computing the probability for each class using the weight matrices in `W`. The ReLU activation function should be applied on each hidden layer. \n",
    "\n",
    "- `x`: a list of vocabulary indices each corresponding to a word in the document (input)\n",
    "- `W`: a list of weight matrices connecting each part of the network, e.g. for a network with a hidden and an output layer: W[0] is the weight matrix that connects the input to the first hidden layer, W[1] is the weight matrix that connects the hidden layer to the output layer.\n",
    "- `dropout_rate`: the dropout rate that is used to generate a random dropout mask vector applied after each hidden layer for regularisation.\n",
    "\n",
    "and returns:\n",
    "\n",
    "- `out_vals`: a dictionary of output values from each layer: h (the vector before the activation function), a (the resulting vector after passing h from the activation function), its dropout mask vector; and the prediction vector (probability for each class) from the output layer."
   ]
  },
  {
   "cell_type": "code",
   "execution_count": 18,
   "metadata": {
    "ExecuteTime": {
     "end_time": "2020-04-02T14:26:54.761268Z",
     "start_time": "2020-04-02T14:26:54.753402Z"
    },
    "scrolled": true
   },
   "outputs": [],
   "source": [
    "def forward_pass(x, W, dropout_rate=0.2):\n",
    "    out_vals = {}\n",
    "    h_vecs = []\n",
    "    a_vecs = []\n",
    "    dropout_vecs = []\n",
    "\n",
    "    # Embedding layer\n",
    "    h = np.mean(W[0][x], axis=0)\n",
    "    \n",
    "    h_vecs.append(h)\n",
    "    dropout_mask_ = dropout_mask(h.shape, dropout_rate)\n",
    "    dropout_vecs.append(dropout_mask_)\n",
    "    h *= dropout_mask_\n",
    "\n",
    "    a_vecs.append(h)\n",
    "\n",
    "    # Hidden layers\n",
    "    if len(W) > 2:\n",
    "        for i in range(1,len(W)-1):\n",
    "            h = np.dot(h, W[i])\n",
    "            h_vecs.append(h)\n",
    "            \n",
    "            a = relu(h)\n",
    "            \n",
    "            dropout_mask_ = dropout_mask(a.shape, dropout_rate)\n",
    "            dropout_vecs.append(dropout_mask_)\n",
    "            \n",
    "            h *= dropout_mask_\n",
    "            a_vecs.append(h)\n",
    "\n",
    "\n",
    "    # Output layer\n",
    "    h = np.dot(h, W[len(W) - 1])\n",
    "    y_preds = softmax(h)\n",
    "    out_vals['y_preds'] = y_preds\n",
    "    \n",
    "\n",
    "\n",
    "    out_vals['h'] = h_vecs\n",
    "    out_vals['a'] = a_vecs\n",
    "    out_vals['dropout'] = dropout_vecs\n",
    "    \n",
    "    return out_vals\n"
   ]
  },
  {
   "cell_type": "markdown",
   "metadata": {},
   "source": [
    "The `backward_pass` function computes the gradients and updates the weights for each matrix in the network from the output to the input. It takes as input \n",
    "\n",
    "- `x`: a list of vocabulary indices each corresponding to a word in the document (input)\n",
    "- `y`: the true label\n",
    "- `W`: a list of weight matrices connecting each part of the network, e.g. for a network with a hidden and an output layer: W[0] is the weight matrix that connects the input to the first hidden layer, W[1] is the weight matrix that connects the hidden layer to the output layer.\n",
    "- `out_vals`: a dictionary of output values from a forward pass.\n",
    "- `learning_rate`: the learning rate for updating the weights.\n",
    "- `freeze_emb`: boolean value indicating whether the embedding weights will be updated.\n",
    "\n",
    "and returns:\n",
    "\n",
    "- `W`: the updated weights of the network.\n",
    "\n",
    "Hint: the gradients on the output layer are similar to the multiclass logistic regression."
   ]
  },
  {
   "cell_type": "code",
   "execution_count": 19,
   "metadata": {
    "ExecuteTime": {
     "end_time": "2020-05-11T08:24:13.732705Z",
     "start_time": "2020-05-11T08:24:13.729741Z"
    },
    "scrolled": true
   },
   "outputs": [],
   "source": [
    "def backward_pass(x, y, W, out_vals, lr=0.001, freeze_emb=False):\n",
    "\n",
    "    y_preds = out_vals['y_preds']\n",
    "    h_vecs = out_vals['h']\n",
    "    a_vecs = out_vals['a']\n",
    "    dropout_vecs = out_vals['dropout']\n",
    "\n",
    "    #output layer\n",
    "    delta = y_preds - y\n",
    "    dW_out = np.outer(a_vecs[-1], delta)\n",
    "    W[len(W)-1] -= lr*dW_out\n",
    "\n",
    "    #hidden layers\n",
    "    for i in range(len(W)-2, 0, -1):\n",
    "        delta = np.dot(delta, W[i+1].T)\n",
    "        delta = delta * relu_derivative(h_vecs[i])\n",
    "        delta = delta * dropout_vecs[i]\n",
    "        dW = np.outer(a_vecs[i - 1],delta)\n",
    "        W[i] -= lr*dW\n",
    "\n",
    "    #embedding layer\n",
    "    if not freeze_emb:\n",
    "        delta = np.dot(delta, W[1].T)\n",
    "        delta = delta * dropout_vecs[0]\n",
    "        for i in range(len(x)):\n",
    "            W[0][x[i]] -= lr*delta\n",
    "    \n",
    "    return W"
   ]
  },
  {
   "cell_type": "markdown",
   "metadata": {
    "ExecuteTime": {
     "end_time": "2020-02-15T14:08:59.937442Z",
     "start_time": "2020-02-15T14:08:59.932221Z"
    }
   },
   "source": [
    "Finally you need to modify SGD to support back-propagation by using the `forward_pass` and `backward_pass` functions.\n",
    "\n",
    "The `SGD` function takes as input:\n",
    "\n",
    "- `X_tr`: array of training data (vectors)\n",
    "- `Y_tr`: labels of `X_tr`\n",
    "- `W`: the weights of the network (dictionary)\n",
    "- `X_dev`: array of development (i.e. validation) data (vectors)\n",
    "- `Y_dev`: labels of `X_dev`\n",
    "- `lr`: learning rate\n",
    "- `dropout`: regularisation strength\n",
    "- `epochs`: number of full passes over the training data\n",
    "- `tolerance`: stop training if the difference between the current and previous validation loss is smaller than a threshold\n",
    "- `freeze_emb`: boolean value indicating whether the embedding weights will be updated (to be used by the backward pass function).\n",
    "- `print_progress`: flag for printing the training progress (train/validation loss)\n",
    "\n",
    "\n",
    "and returns:\n",
    "\n",
    "- `weights`: the weights learned\n",
    "- `training_loss_history`: an array with the average losses of the whole training set after each epoch\n",
    "- `validation_loss_history`: an array with the average losses of the whole development set after each epoch"
   ]
  },
  {
   "cell_type": "code",
   "execution_count": 20,
   "metadata": {
    "ExecuteTime": {
     "end_time": "2020-04-02T15:09:19.021428Z",
     "start_time": "2020-04-02T15:09:19.017835Z"
    },
    "scrolled": true
   },
   "outputs": [],
   "source": [
    "def SGD(X_tr, Y_tr, W, X_dev=[], Y_dev=[], lr=0.001, \n",
    "        dropout=0.2, epochs=5, tolerance=0.01, freeze_emb=False, \n",
    "        print_progress=True):\n",
    "    \n",
    "    training_loss_history = [] \n",
    "    validation_loss_history = []\n",
    "\n",
    "    for epoch in range(epochs):\n",
    "        \n",
    "        ## SGD for training dataset\n",
    "        \n",
    "        training_loss = 0\n",
    "        for x,y in zip(X_tr, Y_tr):\n",
    "            ## One-hot encode the target label\n",
    "            y_onehot = np.zeros(3)\n",
    "            y_onehot[y-1] = 1\n",
    "\n",
    "            ### Forward pass and calculate the loss - Update the weights with backward pass\n",
    "            out_vals = forward_pass(x, W, dropout_rate=dropout)\n",
    "            W = backward_pass(x, y_onehot, W, out_vals, lr=lr, freeze_emb=freeze_emb)\n",
    "            training_loss += categorical_loss(y_onehot, out_vals['y_preds'])\n",
    "        \n",
    "        training_loss /= len(Y_tr)\n",
    "        training_loss_history.append(training_loss)\n",
    "        \n",
    "        ## SGD for validation dataset\n",
    "\n",
    "\n",
    "        if X_dev:\n",
    "            validation_loss = 0\n",
    "            for x,y in zip(X_dev, Y_dev):\n",
    "\n",
    "                ## One-hot encode the target label\n",
    "                y_onehot = np.zeros(3)\n",
    "                y_onehot[y-1] = 1\n",
    "\n",
    "                ### Forward pass and calculate the loss\n",
    "                out_vals = forward_pass(x, W, dropout_rate=dropout)\n",
    "                validation_loss += categorical_loss(y_onehot, out_vals['y_preds'])\n",
    "            validation_loss /= len(Y_dev)\n",
    "            validation_loss_history.append(validation_loss)\n",
    "        \n",
    "        if print_progress:\n",
    "            print('Epoch %d, training loss: %.4f, validation loss: %.4f' % (epoch, training_loss, validation_loss))\n",
    "        \n",
    "        if epoch > 1 and abs(validation_loss - validation_loss_history[-2]) < tolerance:\n",
    "            break\n",
    "    \n",
    "    \n",
    "    return W, training_loss_history, validation_loss_history"
   ]
  },
  {
   "cell_type": "markdown",
   "metadata": {
    "ExecuteTime": {
     "end_time": "2020-02-15T14:10:15.772383Z",
     "start_time": "2020-02-15T14:10:15.767855Z"
    }
   },
   "source": [
    "Now you are ready to train and evaluate your neural net. First, you need to define your network using the `network_weights` function followed by SGD with backprop:"
   ]
  },
  {
   "cell_type": "code",
   "execution_count": 21,
   "metadata": {},
   "outputs": [],
   "source": [
    "### Param Grid\n",
    "\n",
    "param_grid = {'lr': [0.001, 0.01, 0.1],\n",
    "                'dropout': [0.2, 0.3, 0.4],\n",
    "                'epochs': [20, 50, 100],\n",
    "                'embedding_dim': [50, 100, 200]}\n",
    "\n",
    "results = {'embedding_dim': [], 'lr': [], 'dropout': [], 'epochs': [], 'accuracy': []}"
   ]
  },
  {
   "cell_type": "code",
   "execution_count": 22,
   "metadata": {},
   "outputs": [
    {
     "name": "stdout",
     "output_type": "stream",
     "text": [
      "Embedding dim: 50, Accuracy: 0.8556\n",
      "Embedding dim: 100, Accuracy: 0.8522\n",
      "Embedding dim: 200, Accuracy: 0.8522\n"
     ]
    }
   ],
   "source": [
    "### Hyperparameter Tuning - Embedding Dimension\n",
    "\n",
    "for emb_dim in param_grid['embedding_dim']:\n",
    "    W = network_weights(vocab_size=len(vocab), embedding_dim=emb_dim, hidden_dim=[], num_classes=3)\n",
    "    W, training_loss, validation_loss = SGD(X_tr, Y_tr, W, X_dev=X_dev, Y_dev=Y_dev, lr=0.01, dropout=0.2, epochs=100, tolerance=1e-4, freeze_emb=False, print_progress=False)\n",
    "    preds_te = [np.argmax(forward_pass(x, W, dropout_rate=0.0)['y_preds']) for x in X_te]\n",
    "    acc = accuracy_score(Y_te, preds_te)\n",
    "    print('Embedding dim: %d, Accuracy: %.4f' % (emb_dim, acc))\n",
    "    results['embedding_dim'].append(acc)"
   ]
  },
  {
   "cell_type": "code",
   "execution_count": 23,
   "metadata": {},
   "outputs": [
    {
     "name": "stdout",
     "output_type": "stream",
     "text": [
      "Learning rate: 0.0010, Accuracy: 0.8544\n",
      "Learning rate: 0.0100, Accuracy: 0.8511\n",
      "Learning rate: 0.1000, Accuracy: 0.8189\n"
     ]
    }
   ],
   "source": [
    "### Hyperparameter Tuning - Learning Rate\n",
    "\n",
    "for lr in param_grid['lr']:\n",
    "    W = network_weights(vocab_size=len(vocab), embedding_dim=param_grid['embedding_dim'][np.argmax(results['embedding_dim'])], hidden_dim=[], num_classes=3)\n",
    "    W, training_loss, validation_loss = SGD(X_tr, Y_tr, W, X_dev=X_dev, Y_dev=Y_dev, lr=lr, dropout=0.2, epochs=100, tolerance=1e-4, freeze_emb=False, print_progress=False)\n",
    "    preds_te = [np.argmax(forward_pass(x, W, dropout_rate=0.0)['y_preds']) for x in X_te]\n",
    "    acc = accuracy_score(Y_te, preds_te)\n",
    "    print('Learning rate: %.4f, Accuracy: %.4f' % (lr, acc))\n",
    "    results['lr'].append(acc)"
   ]
  },
  {
   "cell_type": "code",
   "execution_count": 24,
   "metadata": {},
   "outputs": [
    {
     "name": "stdout",
     "output_type": "stream",
     "text": [
      "Dropout rate: 0.2000, Accuracy: 0.8522\n",
      "Dropout rate: 0.3000, Accuracy: 0.8544\n",
      "Dropout rate: 0.4000, Accuracy: 0.8567\n"
     ]
    }
   ],
   "source": [
    "### Hyperparameter Tuning - Dropout Rate\n",
    "\n",
    "for dropout in param_grid['dropout']:\n",
    "    W = network_weights(vocab_size=len(vocab), embedding_dim=param_grid['embedding_dim'][np.argmax(results['embedding_dim'])], hidden_dim=[], num_classes=3)\n",
    "    W, training_loss, validation_loss = SGD(X_tr, Y_tr, W, X_dev=X_dev, Y_dev=Y_dev, lr=param_grid['lr'][np.argmax(results['lr'])], dropout=dropout, epochs=100, tolerance=1e-4, freeze_emb=False, print_progress=False)\n",
    "    preds_te = [np.argmax(forward_pass(x, W, dropout_rate=0.0)['y_preds']) for x in X_te]\n",
    "    acc = accuracy_score(Y_te, preds_te)\n",
    "    print('Dropout rate: %.4f, Accuracy: %.4f' % (dropout, acc))\n",
    "    results['dropout'].append(acc)"
   ]
  },
  {
   "cell_type": "code",
   "execution_count": 25,
   "metadata": {},
   "outputs": [
    {
     "name": "stdout",
     "output_type": "stream",
     "text": [
      "Epochs: 20, Accuracy: 0.7833\n",
      "Epochs: 50, Accuracy: 0.8322\n",
      "Epochs: 100, Accuracy: 0.8611\n"
     ]
    }
   ],
   "source": [
    "### Hyperparameter Tuning - epochs\n",
    "\n",
    "for epoch in param_grid['epochs']:\n",
    "    W = network_weights(vocab_size=len(vocab), embedding_dim=param_grid['embedding_dim'][np.argmax(results['embedding_dim'])], hidden_dim=[], num_classes=3)\n",
    "    W, training_loss, validation_loss = SGD(X_tr, Y_tr, W, X_dev=X_dev, Y_dev=Y_dev, lr=param_grid['lr'][np.argmax(results['lr'])], dropout=param_grid['dropout'][np.argmax(results['dropout'])], epochs=epoch, tolerance=1e-4, freeze_emb=False, print_progress=False)\n",
    "    preds_te = [np.argmax(forward_pass(x, W, dropout_rate=0.0)['y_preds']) for x in X_te]\n",
    "    acc = accuracy_score(Y_te, preds_te)\n",
    "    print('Epochs: %d, Accuracy: %.4f' % (epoch, acc))\n",
    "    results['epochs'].append(acc)"
   ]
  },
  {
   "cell_type": "code",
   "execution_count": 26,
   "metadata": {
    "ExecuteTime": {
     "end_time": "2020-04-02T15:09:33.643515Z",
     "start_time": "2020-04-02T15:09:33.640943Z"
    },
    "scrolled": true
   },
   "outputs": [
    {
     "name": "stdout",
     "output_type": "stream",
     "text": [
      "Shape W0 (8931, 50)\n",
      "Shape W1 (50, 3)\n"
     ]
    }
   ],
   "source": [
    "### Best fit\n",
    "\n",
    "best_params = {}\n",
    "best_params['embedding_dim'] = param_grid['embedding_dim'][np.argmax(results['embedding_dim'])]\n",
    "best_params['lr'] = param_grid['lr'][np.argmax(results['lr'])]\n",
    "best_params['dropout'] = param_grid['dropout'][np.argmax(results['dropout'])]\n",
    "best_params['epochs'] = param_grid['epochs'][np.argmax(results['epochs'])]\n",
    "\n",
    "\n",
    "W = network_weights(vocab_size=len(vocab),embedding_dim=best_params['embedding_dim'],hidden_dim=[], num_classes=3)\n",
    "\n",
    "for i in range(len(W)):\n",
    "    print('Shape W'+str(i), W[i].shape)\n",
    "\n",
    "W, loss_tr, dev_loss = SGD(X_tr, Y_tr,W,X_dev=X_dev, Y_dev=Y_dev,\n",
    "                            lr=best_params['lr'], \n",
    "                            dropout=best_params['dropout'],\n",
    "                            freeze_emb=False,\n",
    "                            tolerance=1e-7,\n",
    "                            epochs=best_params['epochs'],\n",
    "                            print_progress=False)\n"
   ]
  },
  {
   "cell_type": "markdown",
   "metadata": {},
   "source": [
    "Plot the learning process:"
   ]
  },
  {
   "cell_type": "code",
   "execution_count": 27,
   "metadata": {
    "ExecuteTime": {
     "end_time": "2020-04-02T14:27:15.716497Z",
     "start_time": "2020-04-02T14:27:15.612736Z"
    },
    "scrolled": true
   },
   "outputs": [
    {
     "data": {
      "image/png": "[encoded data removed]",
      "text/plain": [
       "<Figure size 640x480 with 1 Axes>"
      ]
     },
     "metadata": {},
     "output_type": "display_data"
    }
   ],
   "source": [
    "#plotting the training and validation loss\n",
    "\n",
    "plt.plot(loss_tr, label='Training loss')\n",
    "plt.plot(dev_loss, label='Validation loss')\n",
    "plt.legend()\n",
    "plt.xlabel('Epoch')\n",
    "plt.ylabel('Loss')\n",
    "plt.title('Training and validation loss')\n",
    "plt.grid()"
   ]
  },
  {
   "cell_type": "markdown",
   "metadata": {},
   "source": [
    "Compute accuracy, precision, recall and F1-Score:"
   ]
  },
  {
   "cell_type": "code",
   "execution_count": 28,
   "metadata": {
    "ExecuteTime": {
     "end_time": "2020-04-02T15:10:11.037495Z",
     "start_time": "2020-04-02T15:10:11.034999Z"
    },
    "scrolled": true
   },
   "outputs": [
    {
     "name": "stdout",
     "output_type": "stream",
     "text": [
      "Accuracy: 0.8522222222222222\n",
      "Precision: 0.8539734893860919\n",
      "Recall: 0.8522222222222222\n",
      "F1-Score: 0.8520529115797327\n"
     ]
    }
   ],
   "source": [
    "preds_te = [np.argmax(forward_pass(x, W, dropout_rate=0.0)['y_preds']) \n",
    "            for x,y in zip(X_te,Y_te)]\n",
    "\n",
    "\n",
    "print('Accuracy:', accuracy_score(Y_te,preds_te))\n",
    "print('Precision:', precision_score(Y_te,preds_te,average='macro'))\n",
    "print('Recall:', recall_score(Y_te,preds_te,average='macro'))\n",
    "print('F1-Score:', f1_score(Y_te,preds_te,average='macro'))"
   ]
  },
  {
   "cell_type": "markdown",
   "metadata": {},
   "source": [
    "### Discuss how did you choose model hyperparameters ? "
   ]
  },
  {
   "cell_type": "markdown",
   "metadata": {},
   "source": [
    "Careful consideration is required for identifying the hyperparameters associated with the Stochastic Gradient Descent Algorithm to achieve optimal model performance. The choice of hyperparameters that include the number of epochs, learning rate, dropout rate and dimension of the embedding layer contribute to efficiently achieving the model's convergence and generalization capabilities.\n",
    "\n",
    "The combination of epochs and learning rate contribute to the rate of iterations and the convergence. Lower values of epochs along with lower learning rates could lead to non-convergence and on the other end, higher epochs results in overfitting. A larger learning rate may also affect the lowest value for the loss function. \n",
    "\n",
    "The embedding layer and the dropout focus on how well the model computes the function based on the training data. Embedding layer indicates the number of neurons whose weights are tuned to effectively reduce the categorical cross entropy loss. The dropout rate focuses on removing a set of neurons to prevent from the weight to overfit over the provided dataset, effectively increasing the generalization capabilities.\n",
    "\n",
    "It can be noted that a wide vareity of ranges for each hyperparameter is chosen to ensure optimal values are attained. Another noteworthy observation is the decoupled tuning of hyperparameters and chaining the optimal value to the next optimization step. This approach is undertaken for better understanding of the impact which is created by each hyperparameter individually, apart from the lesser computation time undertaken. This process present a strategic exploration process to better understand the parameter space. It is also criticial to understand that the tuning is performed on the accuracy of unseen data focusing on improving the generalization capabilities.\n",
    "\n",
    "It can be noted that all the presented accuracy metrics that include accuracy, precision, recall and F1-score are in the range of 85% showing a fairly accurate metric for the given model. The graph plotted for the training and validation loss presents an exponential drop across the number of iterations (epochs).This phenomenon indicates that the model converges to the optimal solution with fine-tuned network weights. The effect of dropout regularization can be inferred from the figure that the model is not overfit."
   ]
  },
  {
   "cell_type": "markdown",
   "metadata": {},
   "source": [
    "# Use Pre-trained Embeddings\n",
    "\n",
    "Now re-train the network using GloVe pre-trained embeddings. You need to modify the `backward_pass` function above to stop computing gradients and updating weights of the embedding matrix.\n",
    "\n",
    "Use the function below to obtain the embedding martix for your vocabulary. Generally, that should work without any problem. If you get errors, you can modify it."
   ]
  },
  {
   "cell_type": "code",
   "execution_count": 29,
   "metadata": {
    "ExecuteTime": {
     "end_time": "2020-04-02T14:27:32.020697Z",
     "start_time": "2020-04-02T14:27:32.015733Z"
    },
    "scrolled": true
   },
   "outputs": [],
   "source": [
    "def get_glove_embeddings(f_zip, f_txt, word2id, emb_size=300):\n",
    "    \n",
    "    w_emb = np.zeros((len(word2id), emb_size))\n",
    "    \n",
    "    with zipfile.ZipFile(f_zip) as z:\n",
    "        with z.open(f_txt) as f:\n",
    "            for line in f:\n",
    "                line = line.decode('utf-8')\n",
    "                word = line.split()[0]\n",
    "                     \n",
    "                if word in vocab:\n",
    "                    emb = np.array(line.strip('\\n').split()[1:])\n",
    "                    try:\n",
    "                        emb =  emb.astype(np.float32)\n",
    "                    except:\n",
    "                        print(\"Original line:\", line)\n",
    "                        print(\"Word:\", word)\n",
    "                        print(\"Strip and split : \",line.strip('\\n').split())\n",
    "                        break\n",
    "                    w_emb[word2id[word]] +=emb\n",
    "    return w_emb"
   ]
  },
  {
   "cell_type": "code",
   "execution_count": 30,
   "metadata": {
    "ExecuteTime": {
     "end_time": "2020-04-02T14:28:54.548613Z",
     "start_time": "2020-04-02T14:27:32.780248Z"
    },
    "scrolled": true
   },
   "outputs": [],
   "source": [
    "w_glove = get_glove_embeddings(\"glove.840B.300d.zip\",\"glove.840B.300d.txt\",word2id)"
   ]
  },
  {
   "cell_type": "markdown",
   "metadata": {},
   "source": [
    "First, initialise the weights of your network using the `network_weights` function. Second, replace the weigths of the embedding matrix with `w_glove`. Finally, train the network by freezing the embedding weights: "
   ]
  },
  {
   "cell_type": "code",
   "execution_count": 31,
   "metadata": {},
   "outputs": [],
   "source": [
    "### Param Grid\n",
    "\n",
    "param_grid = {'lr': [0.001, 0.01, 0.1],\n",
    "                'dropout': [0.2, 0.3, 0.4],\n",
    "                'epochs': [20, 50, 100]}\n",
    "\n",
    "results = {'lr': [], 'dropout': [], 'epochs': []}"
   ]
  },
  {
   "cell_type": "code",
   "execution_count": 32,
   "metadata": {},
   "outputs": [
    {
     "name": "stdout",
     "output_type": "stream",
     "text": [
      "Learning rate: 0.0010, Accuracy: 0.8933\n",
      "Learning rate: 0.0100, Accuracy: 0.8078\n",
      "Learning rate: 0.1000, Accuracy: 0.6656\n"
     ]
    }
   ],
   "source": [
    "### Hyperparameter Tuning - Learning Rate\n",
    "\n",
    "for lr in param_grid['lr']:\n",
    "    W = network_weights(vocab_size=len(vocab), embedding_dim=300, hidden_dim=[], num_classes=3)\n",
    "    W[0] = w_glove\n",
    "    W, training_loss, validation_loss = SGD(X_tr, Y_tr, W, X_dev=X_dev, Y_dev=Y_dev, lr=lr, dropout=0.2, epochs=100, tolerance=1e-4, freeze_emb=True, print_progress=False)\n",
    "    preds_te = [np.argmax(forward_pass(x, W, dropout_rate=0.0)['y_preds']) for x in X_te]\n",
    "    acc = accuracy_score(Y_te, preds_te)\n",
    "    print('Learning rate: %.4f, Accuracy: %.4f' % (lr, acc))\n",
    "    results['lr'].append(acc)"
   ]
  },
  {
   "cell_type": "code",
   "execution_count": 33,
   "metadata": {},
   "outputs": [
    {
     "name": "stdout",
     "output_type": "stream",
     "text": [
      "Dropout rate: 0.2000, Accuracy: 0.8889\n",
      "Dropout rate: 0.3000, Accuracy: 0.8933\n",
      "Dropout rate: 0.4000, Accuracy: 0.8911\n"
     ]
    }
   ],
   "source": [
    "### Hyperparameter Tuning - Dropout Rate\n",
    "\n",
    "for dropout in param_grid['dropout']:\n",
    "    W = network_weights(vocab_size=len(vocab), embedding_dim=300, hidden_dim=[], num_classes=3)\n",
    "    W[0] = w_glove\n",
    "    W, training_loss, validation_loss = SGD(X_tr, Y_tr, W, X_dev=X_dev, Y_dev=Y_dev, lr=param_grid['lr'][np.argmax(results['lr'])], dropout=dropout, epochs=100, tolerance=1e-4, freeze_emb=True, print_progress=False)\n",
    "    preds_te = [np.argmax(forward_pass(x, W, dropout_rate=0.0)['y_preds']) for x in X_te]\n",
    "    acc = accuracy_score(Y_te, preds_te)\n",
    "    print('Dropout rate: %.4f, Accuracy: %.4f' % (dropout, acc))\n",
    "    results['dropout'].append(acc)"
   ]
  },
  {
   "cell_type": "code",
   "execution_count": 34,
   "metadata": {},
   "outputs": [
    {
     "name": "stdout",
     "output_type": "stream",
     "text": [
      "Epochs: 20, Accuracy: 0.8556\n",
      "Epochs: 50, Accuracy: 0.8911\n",
      "Epochs: 100, Accuracy: 0.8978\n"
     ]
    }
   ],
   "source": [
    "### Hyperparameter Tuning - epochs\n",
    "\n",
    "for epoch in param_grid['epochs']:\n",
    "    W = network_weights(vocab_size=len(vocab), embedding_dim=300, hidden_dim=[], num_classes=3)\n",
    "    W[0] = w_glove\n",
    "    W, training_loss, validation_loss = SGD(X_tr, Y_tr, W, X_dev=X_dev, Y_dev=Y_dev, lr=param_grid['lr'][np.argmax(results['lr'])], dropout=param_grid['dropout'][np.argmax(results['dropout'])], epochs=epoch, tolerance=1e-4, freeze_emb=True, print_progress=False)\n",
    "    preds_te = [np.argmax(forward_pass(x, W, dropout_rate=0.0)['y_preds']) for x in X_te]\n",
    "    acc = accuracy_score(Y_te, preds_te)\n",
    "    print('Epochs: %d, Accuracy: %.4f' % (epoch, acc))\n",
    "    results['epochs'].append(acc)"
   ]
  },
  {
   "cell_type": "code",
   "execution_count": 35,
   "metadata": {
    "ExecuteTime": {
     "end_time": "2020-04-02T14:30:11.121198Z",
     "start_time": "2020-04-02T14:29:24.946124Z"
    },
    "scrolled": true
   },
   "outputs": [
    {
     "name": "stdout",
     "output_type": "stream",
     "text": [
      "Shape W0 (8931, 300)\n",
      "Shape W1 (300, 3)\n"
     ]
    }
   ],
   "source": [
    "### Best fit\n",
    "\n",
    "best_params = {}\n",
    "best_params['lr'] = param_grid['lr'][np.argmax(results['lr'])]\n",
    "best_params['dropout'] = param_grid['dropout'][np.argmax(results['dropout'])]\n",
    "best_params['epochs'] = param_grid['epochs'][np.argmax(results['epochs'])]\n",
    "\n",
    "W = network_weights(vocab_size=len(vocab),embedding_dim=300,\n",
    "                    hidden_dim=[], num_classes=3)\n",
    "\n",
    "\n",
    "W[0] = w_glove\n",
    "\n",
    "for i in range(len(W)):\n",
    "    print('Shape W'+str(i), W[i].shape)\n",
    "\n",
    "W, loss_tr, dev_loss = SGD(X_tr, Y_tr,\n",
    "                            W,\n",
    "                            X_dev=X_dev, \n",
    "                            Y_dev=Y_dev,\n",
    "                            lr=best_params['lr'], \n",
    "                            dropout=best_params['dropout'],\n",
    "                            freeze_emb=True,\n",
    "                            tolerance=1e-7,\n",
    "                            epochs=best_params['epochs'],\n",
    "                            print_progress=False)\n"
   ]
  },
  {
   "cell_type": "code",
   "execution_count": 36,
   "metadata": {},
   "outputs": [
    {
     "data": {
      "image/png": "[encoded data removed]",
      "text/plain": [
       "<Figure size 640x480 with 1 Axes>"
      ]
     },
     "metadata": {},
     "output_type": "display_data"
    }
   ],
   "source": [
    "#plotting the training and validation loss\n",
    "\n",
    "plt.plot(loss_tr, label='Training loss')\n",
    "plt.plot(dev_loss, label='Validation loss')\n",
    "plt.legend()\n",
    "plt.xlabel('Epoch')\n",
    "plt.ylabel('Loss')\n",
    "plt.title('Training and validation loss')\n",
    "plt.grid()"
   ]
  },
  {
   "cell_type": "code",
   "execution_count": 37,
   "metadata": {
    "ExecuteTime": {
     "end_time": "2020-04-02T15:12:00.815184Z",
     "start_time": "2020-04-02T15:12:00.812563Z"
    },
    "scrolled": true
   },
   "outputs": [
    {
     "name": "stdout",
     "output_type": "stream",
     "text": [
      "Accuracy: 0.8911111111111111\n",
      "Precision: 0.8908410763652252\n",
      "Recall: 0.8911111111111111\n",
      "F1-Score: 0.8901658045436157\n"
     ]
    }
   ],
   "source": [
    "preds_te = [np.argmax(forward_pass(x, W, dropout_rate=0.0)['y_preds']) for x in X_te]\n",
    "\n",
    "print('Accuracy:', accuracy_score(Y_te,preds_te))\n",
    "print('Precision:', precision_score(Y_te,preds_te,average='macro'))\n",
    "print('Recall:', recall_score(Y_te,preds_te,average='macro'))\n",
    "print('F1-Score:', f1_score(Y_te,preds_te,average='macro'))"
   ]
  },
  {
   "cell_type": "markdown",
   "metadata": {},
   "source": [
    "### Discuss how did you choose model hyperparameters ? "
   ]
  },
  {
   "cell_type": "markdown",
   "metadata": {
    "scrolled": true
   },
   "source": [
    "In this case, the embedding layer is replaced by a pre-tuned layers from GLoVe embeddings. It is also followed by freezing the embedding layer throughout the Stocastic Gradient Descent process. Similar hyperparameters are chosen in this scenario including learning rate, number of epochs and dropout rate. As the embedding layer is fixed with 300 from the GLoVe embeddings, it is not tuned.\n",
    "\n",
    "The learning rate and epochs come together to control the rate for convergence of the optimal solution and along with dropout regulaization with preventing the model from overfitting, the model approachs the most efficient set of hyperparameters.\n",
    "\n",
    "The performance metrics indicate higher values compared to the previous case. It can be inferred that the tuned emdedding layer plays a vital role in the model's performance and it's generalization capabilities. The presented graph for the validation and training loss showcases a similar exponential decay as the first case. It can also be noted that there are spikes observed across loss rates through epochs. This indicates stochasticity throughout the SGD algorithm from the model initializations. Another factor could the dropout regualarization protecting the model from overfitting."
   ]
  },
  {
   "cell_type": "markdown",
   "metadata": {},
   "source": [
    "# Extend to support deeper architectures \n",
    "\n",
    "Extend the network to support back-propagation for more hidden layers. You need to modify the `backward_pass` function above to compute gradients and update the weights between intermediate hidden layers. Finally, train and evaluate a network with a deeper architecture. Do deeper architectures increase performance?"
   ]
  },
  {
   "cell_type": "code",
   "execution_count": 38,
   "metadata": {},
   "outputs": [],
   "source": [
    "### Param Grid\n",
    "\n",
    "param_grid = {'lr': [0.001, 0.01, 0.1],\n",
    "                'dropout': [0.2, 0.3, 0.4],\n",
    "                'epochs': [20, 50, 100],\n",
    "                'hidden_dim': [[100],[200],[300]]}\n",
    "\n",
    "results = {'lr': [], 'dropout': [], 'epochs': [], 'hidden_dim': []}"
   ]
  },
  {
   "cell_type": "code",
   "execution_count": 39,
   "metadata": {},
   "outputs": [
    {
     "name": "stdout",
     "output_type": "stream",
     "text": [
      "Hidden dim: [100] Accuracy: 0.6989\n",
      "Hidden dim: [200] Accuracy: 0.7144\n",
      "Hidden dim: [300] Accuracy: 0.7022\n"
     ]
    }
   ],
   "source": [
    "### Hyperparameter Tuning - Hidden Dimension\n",
    "\n",
    "for hidden_dim in param_grid['hidden_dim']:\n",
    "    W = network_weights(vocab_size=len(vocab), embedding_dim=300, hidden_dim=hidden_dim, num_classes=3)\n",
    "    W, training_loss, validation_loss = SGD(X_tr, Y_tr, W, X_dev=X_dev, Y_dev=Y_dev, lr=0.01, dropout=0.2, epochs=100, tolerance=1e-4, freeze_emb=True, print_progress=False)\n",
    "    preds_te = [np.argmax(forward_pass(x, W, dropout_rate=0.0)['y_preds']) for x in X_te]\n",
    "    acc = accuracy_score(Y_te, preds_te)\n",
    "    print('Hidden dim:', hidden_dim, 'Accuracy: %.4f' % acc)\n",
    "    results['hidden_dim'].append(acc)"
   ]
  },
  {
   "cell_type": "code",
   "execution_count": 40,
   "metadata": {},
   "outputs": [
    {
     "name": "stdout",
     "output_type": "stream",
     "text": [
      "Learning rate: 0.0010, Accuracy: 0.7133\n",
      "Learning rate: 0.0100, Accuracy: 0.7100\n",
      "Learning rate: 0.1000, Accuracy: 0.4356\n"
     ]
    }
   ],
   "source": [
    "### Hyperparameter Tuning - Learning Rate\n",
    "\n",
    "for lr in param_grid['lr']:\n",
    "    W = network_weights(vocab_size=len(vocab), embedding_dim=300, hidden_dim=param_grid['hidden_dim'][np.argmax(results['hidden_dim'])], num_classes=3)\n",
    "    W, training_loss, validation_loss = SGD(X_tr, Y_tr, W, X_dev=X_dev, Y_dev=Y_dev, lr=lr, dropout=0.2, epochs=100, tolerance=1e-4, freeze_emb=True, print_progress=False)\n",
    "    preds_te = [np.argmax(forward_pass(x, W, dropout_rate=0.0)['y_preds']) for x in X_te]\n",
    "    acc = accuracy_score(Y_te, preds_te)\n",
    "    print('Learning rate: %.4f, Accuracy: %.4f' % (lr, acc))\n",
    "    results['lr'].append(acc)"
   ]
  },
  {
   "cell_type": "code",
   "execution_count": 41,
   "metadata": {},
   "outputs": [
    {
     "name": "stdout",
     "output_type": "stream",
     "text": [
      "Dropout rate: 0.2000, Accuracy: 0.7056\n",
      "Dropout rate: 0.3000, Accuracy: 0.7144\n",
      "Dropout rate: 0.4000, Accuracy: 0.7133\n"
     ]
    }
   ],
   "source": [
    "### Hyperparameter Tuning - Dropout Rate\n",
    "\n",
    "for dropout in param_grid['dropout']:\n",
    "    W = network_weights(vocab_size=len(vocab), embedding_dim=300, hidden_dim=param_grid['hidden_dim'][np.argmax(results['hidden_dim'])], num_classes=3)\n",
    "    W, training_loss, validation_loss = SGD(X_tr, Y_tr, W, X_dev=X_dev, Y_dev=Y_dev, lr=param_grid['lr'][np.argmax(results['lr'])], dropout=dropout, epochs=100, tolerance=1e-4, freeze_emb=True, print_progress=False)\n",
    "    preds_te = [np.argmax(forward_pass(x, W, dropout_rate=0.0)['y_preds']) for x in X_te]\n",
    "    acc = accuracy_score(Y_te, preds_te)\n",
    "    print('Dropout rate: %.4f, Accuracy: %.4f' % (dropout, acc))\n",
    "    results['dropout'].append(acc)"
   ]
  },
  {
   "cell_type": "code",
   "execution_count": 42,
   "metadata": {},
   "outputs": [
    {
     "name": "stdout",
     "output_type": "stream",
     "text": [
      "Epochs: 20, Accuracy: 0.6689\n",
      "Epochs: 50, Accuracy: 0.6989\n",
      "Epochs: 100, Accuracy: 0.7300\n"
     ]
    }
   ],
   "source": [
    "### Hyperparameter Tuning - epochs\n",
    "\n",
    "for epoch in param_grid['epochs']:\n",
    "    W = network_weights(vocab_size=len(vocab), embedding_dim=300, hidden_dim=param_grid['hidden_dim'][np.argmax(results['hidden_dim'])], num_classes=3)\n",
    "    W, training_loss, validation_loss = SGD(X_tr, Y_tr, W, X_dev=X_dev, Y_dev=Y_dev, lr=param_grid['lr'][np.argmax(results['lr'])], dropout=param_grid['dropout'][np.argmax(results['dropout'])], epochs=epoch, tolerance=1e-4, freeze_emb=True, print_progress=False)\n",
    "    preds_te = [np.argmax(forward_pass(x, W, dropout_rate=0.0)['y_preds']) for x in X_te]\n",
    "    acc = accuracy_score(Y_te, preds_te)\n",
    "    print('Epochs: %d, Accuracy: %.4f' % (epoch, acc))\n",
    "    results['epochs'].append(acc)"
   ]
  },
  {
   "cell_type": "code",
   "execution_count": 43,
   "metadata": {
    "ExecuteTime": {
     "end_time": "2020-04-02T14:58:51.764619Z",
     "start_time": "2020-04-02T14:58:47.483690Z"
    },
    "scrolled": true
   },
   "outputs": [
    {
     "name": "stdout",
     "output_type": "stream",
     "text": [
      "Shape W0 (8931, 300)\n",
      "Shape W1 (300, 200)\n",
      "Shape W2 (200, 3)\n"
     ]
    }
   ],
   "source": [
    "best_params = {}\n",
    "best_params['hidden_dim'] = param_grid['hidden_dim'][np.argmax(results['hidden_dim'])]\n",
    "best_params['lr'] = param_grid['lr'][np.argmax(results['lr'])]\n",
    "best_params['dropout'] = param_grid['dropout'][np.argmax(results['dropout'])]\n",
    "best_params['epochs'] = param_grid['epochs'][np.argmax(results['epochs'])]\n",
    "\n",
    "\n",
    "W = network_weights(vocab_size=len(vocab),embedding_dim=300,\n",
    "                    hidden_dim=best_params['hidden_dim'], num_classes=3)\n",
    "\n",
    "\n",
    "W[0] = w_glove\n",
    "\n",
    "for i in range(len(W)):\n",
    "    print('Shape W'+str(i), W[i].shape)\n",
    "\n",
    "W, loss_tr, dev_loss = SGD(X_tr, Y_tr,\n",
    "                            W,\n",
    "                            X_dev=X_dev, \n",
    "                            Y_dev=Y_dev,\n",
    "                            lr=best_params['lr'], \n",
    "                            dropout=best_params['dropout'],\n",
    "                            freeze_emb=True,\n",
    "                            tolerance=1e-7,\n",
    "                            epochs=best_params['epochs'],\n",
    "                            print_progress=False)\n"
   ]
  },
  {
   "cell_type": "code",
   "execution_count": 44,
   "metadata": {},
   "outputs": [
    {
     "data": {
      "image/png": "[encoded data removed]",
      "text/plain": [
       "<Figure size 640x480 with 1 Axes>"
      ]
     },
     "metadata": {},
     "output_type": "display_data"
    }
   ],
   "source": [
    "#plotting the training and validation loss\n",
    "\n",
    "plt.plot(loss_tr, label='Training loss')\n",
    "plt.plot(dev_loss, label='Validation loss')\n",
    "plt.legend()\n",
    "plt.xlabel('Epoch')\n",
    "plt.ylabel('Loss')\n",
    "plt.title('Training and validation loss')\n",
    "plt.grid()"
   ]
  },
  {
   "cell_type": "code",
   "execution_count": 45,
   "metadata": {
    "ExecuteTime": {
     "end_time": "2020-04-02T15:11:51.994986Z",
     "start_time": "2020-04-02T15:11:51.992563Z"
    },
    "scrolled": true
   },
   "outputs": [
    {
     "name": "stdout",
     "output_type": "stream",
     "text": [
      "Accuracy: 0.8077777777777778\n",
      "Precision: 0.8485872968111119\n",
      "Recall: 0.8077777777777778\n",
      "F1-Score: 0.7977047505269387\n"
     ]
    }
   ],
   "source": [
    "preds_te = [np.argmax(forward_pass(x, W, dropout_rate=0.0)['y_preds']) \n",
    "            for x,y in zip(X_te,Y_te)]\n",
    "\n",
    "print('Accuracy:', accuracy_score(Y_te,preds_te))\n",
    "print('Precision:', precision_score(Y_te,preds_te,average='macro'))\n",
    "print('Recall:', recall_score(Y_te,preds_te,average='macro'))\n",
    "print('F1-Score:', f1_score(Y_te,preds_te,average='macro'))"
   ]
  },
  {
   "cell_type": "markdown",
   "metadata": {},
   "source": [
    "### Discuss how did you choose model hyperparameters ? "
   ]
  },
  {
   "cell_type": "markdown",
   "metadata": {},
   "source": [
    "In the final scenario, we have introduced an additional hidden layer along with the pre-trained Glove embedding layer. The number of neurons in the hidden layer is also added to the stack of hyperparameters that consists of learning rate, number of epochs and dropout rate. The addition of hidden layer brings more complexity to the model. A single hidden layer is considered with a wide range of neurons to account for a large parameter space.\n",
    "\n",
    "The existing tuning is done similar to the previous cases of chaining individual hyperparameter optimization based on accuracy of test data. This aids in attaining high capabilities of the model of generalization.\n",
    "\n",
    "A contrasting set of values of the performance metrics are observed. It is seen that the metrics are lower than the previous case of having no hidden layers but higher than the first case of not considering the pre-trained embeddings. This could be due to a number of factors. One of them is that the model is overfitting with the addition of a hidden layer. This could be due to the ability of the model to capture unnecessary patterns from the hidden layer leading to lower performance on the test data. Another factor could be due to the dropout regularization. Insufficient dropping of neurons could result in certain neurons across the emebedding and the hidden layer. The last factor could be that the gradient descent algorithm identifies local minima of the loss function due to the presence of hidden layers."
   ]
  },
  {
   "cell_type": "markdown",
   "metadata": {},
   "source": [
    "## Full Results\n",
    "\n",
    "Add your final results here:\n",
    "\n",
    "| Model | Precision  | Recall  | F1-Score  | Accuracy\n",
    "|:-:|:-:|:-:|:-:|:-:|\n",
    "| Average Embedding  | 84.9% | 84.8% | 84.8% | 84.8% |\n",
    "| Average Embedding (Pre-trained)  | 89.3% | 89.3% | 89.2% | 89.3% |\n",
    "| Average Embedding (Pre-trained) + X hidden layers    | 88.2% | 87.8% | 87.6% | 87.8% |\n",
    "\n",
    "\n",
    "Please discuss why your best performing model is better than the rest and provide a bried error analaysis."
   ]
  },
  {
   "cell_type": "markdown",
   "metadata": {
    "scrolled": true
   },
   "source": [
    "From the observations of the performance metrics across the 3 cases, it can be seen that the second model that consists of pre-trained embedding layer from GloVe with no hidden layers has the highest values. This is due to the ability of not overfitting compared to the third model with hidden layers. It performs better than the first model due to the embedding layer which is pre-trained decreasing the model's capability to generalize over unseen data.\n",
    "\n",
    "Across all the models, there is a common exponential decay of training and validation loss across epochs with spikes observed when the pre-embedding layer is accounted. It is also noteworthy to observe that the training loss has been lower than validation loss from which we can conclude that the model is not overfit."
   ]
  }
 ],
 "metadata": {
  "kernelspec": {
   "display_name": "Python 3 (ipykernel)",
   "language": "python",
   "name": "python3"
  },
  "language_info": {
   "codemirror_mode": {
    "name": "ipython",
    "version": 3
   },
   "file_extension": ".py",
   "mimetype": "text/x-python",
   "name": "python",
   "nbconvert_exporter": "python",
   "pygments_lexer": "ipython3",
   "version": "3.11.0"
  }
 },
 "nbformat": 4,
 "nbformat_minor": 2
}
